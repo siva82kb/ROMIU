{
 "cells": [
  {
   "cell_type": "markdown",
   "metadata": {},
   "source": [
    "## ROMIU ROM ALGORITHM VALIDATION \n",
    "\n",
    "A validation analysis of ROMIU with data from motion capture system and a high resolution encoder."
   ]
  },
  {
   "cell_type": "markdown",
   "metadata": {},
   "source": [
    "**Standard Modules**"
   ]
  },
  {
   "cell_type": "code",
   "execution_count": 64,
   "metadata": {},
   "outputs": [],
   "source": [
    "%matplotlib inline\n",
    "import mpld3\n",
    "import os\n",
    "import pandas as pd\n",
    "from matplotlib import pyplot as plt\n",
    "import numpy as np \n",
    "import math\n",
    "from scipy import interpolate\n",
    "from scipy.signal import savgol_filter\n",
    "import csv\n",
    "import pingouin as pg\n",
    "mpld3.enable_notebook()"
   ]
  },
  {
   "cell_type": "markdown",
   "metadata": {},
   "source": [
    "**Cutsom functions**"
   ]
  },
  {
   "cell_type": "code",
   "execution_count": 65,
   "metadata": {},
   "outputs": [],
   "source": [
    "def get_the_data_path(data_dir):\n",
    "    \"\"\"get the path of all the files\n",
    "    \"\"\"\n",
    "    data_path = []\n",
    "    sub_dir1 = [os.path.join(data_dir, file) for file in os.listdir(data_dir)]\n",
    "    for file_1 in sub_dir1:\n",
    "        sub_dir2 = [os.path.join(file_1, file) for file in os.listdir(file_1)]\n",
    "        for file_2 in sub_dir2:\n",
    "            sub_dir3 = [os.path.join(file_2, file) for file in os.listdir(file_2)]\n",
    "            for file_3 in sub_dir3:\n",
    "                sub_dir4 = [os.path.join(file_3, file) for file in os.listdir(file_3)]\n",
    "                for file_4 in sub_dir4:\n",
    "                    sub_dir5 = [os.path.join(file_4, file) for file in os.listdir(file_4)]\n",
    "                    for file_5 in sub_dir5:\n",
    "                        _data_path = [os.path.join(file_5, file) for file in os.listdir(file_5)]\n",
    "                        data_path.append(_data_path)\n",
    "    return data_path"
   ]
  },
  {
   "cell_type": "code",
   "execution_count": 127,
   "metadata": {},
   "outputs": [],
   "source": [
    "def get_the_enc_data_path(data_dir):\n",
    "    \"\"\"\n",
    "    get the path of all the files\n",
    "    \"\"\"\n",
    "    data_path = []\n",
    "    sub_dir1 = [os.path.join(data_dir, file) for file in os.listdir(data_dir)]         \n",
    "    for file_1 in sub_dir1:\n",
    "        _data_path = [os.path.join(file_1, file) for file in os.listdir(file_1)]\n",
    "        data_path.append(_data_path)\n",
    "    return data_path"
   ]
  },
  {
   "cell_type": "code",
   "execution_count": 66,
   "metadata": {},
   "outputs": [],
   "source": [
    "def upsample_mocap_data(imu: pd.DataFrame, mcp: pd.DataFrame) -> pd.DataFrame:\n",
    "     \"\"\"upsample the mocap data to match the sampling frequency of imu data.\n",
    "\n",
    "     Parameters\n",
    "     ----------\n",
    "     imu: pandas.DataFrame \n",
    "          DataFrame consisting of time, accelerometer and gyroscope data\n",
    "     mcp: pandas.Dataframe\n",
    "          DataFrame consisting of time, position of markers\n",
    "\n",
    "     Returns\n",
    "     -------\n",
    "     pandas.DataFrame\n",
    "          Returns DataFrame consisting upsampled motion capture data consisting\n",
    "          of time, position of markers.\n",
    "     \"\"\"\n",
    "    \n",
    "     _t = imu.Time\n",
    "     _anew = pd.DataFrame()\n",
    "     _anew['Time'] = _t\n",
    "     for col in mcp.columns:\n",
    "          f = interpolate.interp1d(mcp.Time,mcp[col],fill_value=\"extrapolate\")\n",
    "          _anew[col]=f(_t)\n",
    "     mcp=_anew\n",
    "     return mcp"
   ]
  },
  {
   "cell_type": "code",
   "execution_count": 67,
   "metadata": {},
   "outputs": [],
   "source": [
    "def read_filter_data(fname: str, datacols: list, filtcols: list, sgwin: int, sgorder: int) -> pd.DataFrame:\n",
    "    \"\"\"read the comma-seperated values(csv) file and low pass filter the selected columns\n",
    "\n",
    "    Parameters\n",
    "    ----------\n",
    "    fname:    str\n",
    "              A comma-seperated vlalues(csv) file.\n",
    "    datacols: list\n",
    "              list of columns in the csv file.\n",
    "    filtcols: list\n",
    "              list of columsn in the csv file to be filterd.\n",
    "    sgwin:    int\n",
    "              The length of the filter window\n",
    "    sgorder:  int\n",
    "              The order of the polynomial used to fit the samples\n",
    "\n",
    "    Returns\n",
    "    -------\n",
    "    pandas.DataFrame\n",
    "        Returns DataFrame with the selected data of selected columsn low pass filtered.\n",
    "    \"\"\"\n",
    "    _data = pd.read_csv(fname, usecols=datacols)\n",
    "    for fc in filtcols:\n",
    "        _data[fc] = savgol_filter(_data[fc], sgwin, sgorder)\n",
    "    return _data"
   ]
  },
  {
   "cell_type": "code",
   "execution_count": 132,
   "metadata": {},
   "outputs": [],
   "source": [
    "def imu_calibration(imu, acc_A, acc_bias, gyr_bias):\n",
    "    \"\"\"perform the calibration of IMU \n",
    "    \"\"\"\n",
    "    acc = imu[[\"accelx1\", \"accely1\", \"accelz1\"]].values\n",
    "    gyro = imu[[\"gyrox1\", \"gyroy1\", \"gyroz1\"]].values\n",
    "    if np.max(acc) >100:\n",
    "        acc = acc.astype(float)/16384.0\n",
    "        gyro = gyro.astype(float)/65.5\n",
    "    else:\n",
    "        acc = acc.astype(float)\n",
    "        gyro = gyro.astype(float)\n",
    "    acc -= acc_bias\n",
    "    acc = acc_A @ acc.T\n",
    "    _var_gyro_offst = np.var(gyro[:1000],axis = 0)\n",
    "    _mean_gyro_offst = np.mean(gyro[:1000],axis = 0)\n",
    "    if np.max(_var_gyro_offst)<5.5:\n",
    "        gyro -= _mean_gyro_offst\n",
    "    else:\n",
    "        gyro -= gyr_bias\n",
    "    return acc.T, np.deg2rad(gyro)"
   ]
  },
  {
   "cell_type": "code",
   "execution_count": null,
   "metadata": {},
   "outputs": [],
   "source": [
    "def gram_schmidt_orthogonalize(x: np.ndarray, y: np.ndarray) -> tuple((np.ndarray, np.ndarray)):\n",
    "    \"\"\"Perform the Gram-Schmidt orthogonalization.\n",
    "\n",
    "    Parameters\n",
    "    ----------\n",
    "    x : np.ndarray\n",
    "        2D array of number corresponding to the x vector. The columns are the\n",
    "        different components, while the rows are different x vectors.\n",
    "\n",
    "    y : np.ndarray\n",
    "        2D array of number corresponding to the y vector. The columns are the\n",
    "        different components, while the rows are different y vectors.\n",
    "\n",
    "    Returns\n",
    "    -------\n",
    "    tuple[np.ndarray, np.ndarray]\n",
    "        Returns the GS orthogonalized (x_normn, y_norm) vectors, with the rows corresponding\n",
    "        to the different orthogonalized vectors, and the columsn corresponding\n",
    "        to the different components.\n",
    "        The norm of the rows of x_norm and y_norm will 1. The dot product of\n",
    "        the rows of the x_norm nad y_norm will be 0.\n",
    "    \"\"\"\n",
    "    assert type(x) == np.ndarray, \"x must be an numpy ndarray.\"\n",
    "    assert type(y) == np.ndarray, \"x must be an numpy ndarray.\"\n",
    "    assert len(x.shape) == 2, \"x must be anb 2D numpy array.\"\n",
    "    assert len(y.shape) == 2, \"x must be anb 2D numpy array.\"\n",
    "    assert x.shape == y.shape, \"x and y must have the same shape\"\n",
    "\n",
    "    _xn = x / np.linalg.norm(x, axis=1, keepdims=True)\n",
    "    _yx = np.sum(y * _xn, axis=1, keepdims=True)\n",
    "    _dy = y - _xn * _yx\n",
    "    _yn = _dy / np.linalg.norm(_dy, axis=1, keepdims=True)\n",
    "    return _xn, _yn"
   ]
  },
  {
   "cell_type": "code",
   "execution_count": 165,
   "metadata": {},
   "outputs": [],
   "source": [
    "def axis_of_rotation_deviation(gyro, delta_t, inertial_quat):\n",
    "    \"\"\"\n",
    "    Compute the deviation of axis of rotation \n",
    "    \"\"\"\n",
    "    axs_of_rot, delta_theta, q_gyro = angle_axis_quaternion_representation(gyro,delta_t)\n",
    "    q_int = quaternion_integration(q_gyro,inertial_quat)\n",
    "    tx, ty, tz = euler_angles_from_quaternion_array(q_int)\n",
    "    gyro_ang = 2*np.arccos(q_int[:, 0])\n",
    "    ang = np.rad2deg(gyro_ang)\n",
    "    index =  next(x for x, val in enumerate(ang[0:np.argmax(ang)]) if val > np.max(ang)*0.7)\n",
    "    axis_of_rotation_wrt_inertial_frame = np.divide(q_int[:,1:], np.array([np.sin(gyro_ang/2), np.sin(gyro_ang/2), np.sin(gyro_ang/2)]).T)\n",
    "    fixed_axis = axis_of_rotation_wrt_inertial_frame[index]/np.linalg.norm(axis_of_rotation_wrt_inertial_frame[index])\n",
    "    norm_axis_of_rot = np.divide( axis_of_rotation_wrt_inertial_frame, np.linalg.norm(axis_of_rotation_wrt_inertial_frame, axis = 1, keepdims= True))\n",
    "    dev_ip = norm_axis_of_rot @ fixed_axis\n",
    "    dev  = np.rad2deg(np.arccos(np.clip(dev_ip, a_min= -1, a_max= 1)))\n",
    "    return dev, ang, tx, ty, tz"
   ]
  },
  {
   "cell_type": "markdown",
   "metadata": {},
   "source": [
    "**Quaternion operations**"
   ]
  },
  {
   "cell_type": "code",
   "execution_count": 69,
   "metadata": {},
   "outputs": [],
   "source": [
    "def quaternion_multiply(quaternion1: np.ndarray, quaternion0: np.ndarray) -> np.ndarray:\n",
    "    \"\"\"Perfomre quaternion multiplication\n",
    "\n",
    "    Parameters\n",
    "    ----------\n",
    "    quaternion1: np.ndarray\n",
    "                 1D array of 4 numbers\n",
    "    quaternion2: np.ndarray\n",
    "                 1D array of 4 numbers\n",
    "\n",
    "    Returns\n",
    "    -------\n",
    "    np.ndarray\n",
    "        Returns 1D array of 4 numbers.\n",
    "    \"\"\"\n",
    "    w0, x0, y0, z0 = quaternion0\n",
    "    w1, x1, y1, z1 = quaternion1\n",
    "    return np.array([-x1 * x0 - y1 * y0 - z1 * z0 + w1 * w0,\n",
    "                     x1 * w0 + y1 * z0 - z1 * y0 + w1 * x0,\n",
    "                     -x1 * z0 + y1 * w0 + z1 * x0 + w1 * y0,\n",
    "                     x1 * y0 - y1 * x0 + z1 * w0 + w1 * z0], dtype=np.float64)"
   ]
  },
  {
   "cell_type": "code",
   "execution_count": 73,
   "metadata": {},
   "outputs": [],
   "source": [
    "def inverse_of_quaternion_array(quaternion_array):\n",
    "    \"\"\"\n",
    "    Perform the inverse of a quaternion array\n",
    "    \"\"\"\n",
    "    inverse = np.divide(quaternion_array, np.linalg.norm(quaternion_array, axis = 1, keepdims = True))\n",
    "    inverse[:, -3:] *= -1\n",
    "    return inverse"
   ]
  },
  {
   "cell_type": "code",
   "execution_count": 74,
   "metadata": {},
   "outputs": [],
   "source": [
    "def vec_quaternion(acc):\n",
    "    \"\"\" \n",
    "    return vector as a quaternion with zero as first number\n",
    "    \"\"\"\n",
    "    q_acc = np.hstack([np.zeros((len(acc),1)), acc])\n",
    "    return q_acc"
   ]
  },
  {
   "cell_type": "code",
   "execution_count": 75,
   "metadata": {},
   "outputs": [],
   "source": [
    "def quaternion_vector_rotation(quat, vec):\n",
    "    \"\"\"\n",
    "    Perform vector rotation with quaternion\n",
    "    \"\"\"\n",
    "    first_prod = [quaternion_multiply(quat[j], vec[j]) for j in range(len(quat))]\n",
    "    rot_vect = [quaternion_multiply(first_prod[j], inverse_of_quaternion_array(quat)[j]) for j in range(len(quat))]\n",
    "    return rot_vect"
   ]
  },
  {
   "cell_type": "code",
   "execution_count": 76,
   "metadata": {},
   "outputs": [],
   "source": [
    "def quaternion_integration(quaternion,inertial_quat):\n",
    "    \"\"\" \n",
    "    Perform quanternion integration\n",
    "    \"\"\"\n",
    "    q_int = np.vstack([np.array(inertial_quat).reshape(1,4),np.zeros(((len(quaternion)-1),4))])\n",
    "    for j in range(len(quaternion)-1):\n",
    "        q_int[j+1] = quaternion_multiply(q_int[j],quaternion[j+1])\n",
    "        q_int[j+1] = q_int[j+1]/np.linalg.norm(q_int[j+1])\n",
    "    return q_int"
   ]
  },
  {
   "cell_type": "code",
   "execution_count": 77,
   "metadata": {},
   "outputs": [],
   "source": [
    "def angle_axis_quaternion_representation(gyro,delta_t):\n",
    "    \"\"\"\n",
    "    compute the angle axis  and quaternion representation of gyroscope data\n",
    "    \"\"\"\n",
    "    inst_axs_of_rot = np.divide (gyro, np.linalg.norm(gyro, axis = 1, keepdims = True))\n",
    "    delta_theta = np.linalg.norm(gyro, axis = 1)*delta_t\n",
    "    q_gyro = np.column_stack([np.cos(delta_theta/2), inst_axs_of_rot*(np.sin(delta_theta/2)[:, np.newaxis])])\n",
    "    return inst_axs_of_rot, delta_theta, q_gyro"
   ]
  },
  {
   "cell_type": "code",
   "execution_count": 80,
   "metadata": {},
   "outputs": [],
   "source": [
    "def euler_from_quaternion(x, y, z, w):\n",
    "        \"\"\"\n",
    "        Convert a quaternion into euler angles (roll, pitch, yaw)\n",
    "        roll is rotation around x in radians (counterclockwise)\n",
    "        pitch is rotation around y in radians (counterclockwise)\n",
    "        yaw is rotation around z in radians (counterclockwise)\n",
    "        \"\"\"\n",
    "        t0 = +2.0 * (w * x + y * z)\n",
    "        t1 = +1.0 - 2.0 * (x * x + y * y)\n",
    "        roll_x = math.atan2(t0, t1)\n",
    "     \n",
    "        t2 = +2.0 * (w * y - z * x)\n",
    "        t2 = +1.0 if t2 > +1.0 else t2\n",
    "        t2 = -1.0 if t2 < -1.0 else t2\n",
    "        pitch_y = math.asin(t2)\n",
    "     \n",
    "        t3 = +2.0 * (w * z + x * y)\n",
    "        t4 = +1.0 - 2.0 * (y * y + z * z)\n",
    "        yaw_z = math.atan2(t3, t4)\n",
    "     \n",
    "        return roll_x, pitch_y, yaw_z # in radians"
   ]
  },
  {
   "cell_type": "code",
   "execution_count": 81,
   "metadata": {},
   "outputs": [],
   "source": [
    "def euler_angles_from_quaternion_array(quaternion_array):\n",
    "    \"\"\"\n",
    "    Get euler angles form quaternion array\n",
    "    \"\"\"\n",
    "    tx1 = []\n",
    "    ty1 = []\n",
    "    tz1 = []\n",
    "    for quat in quaternion_array:\n",
    "        tx, ty, tz = euler_from_quaternion(quat[1], quat[2], quat[3], quat[0])\n",
    "        tx1.append(tx)\n",
    "        ty1.append(ty)\n",
    "        tz1.append(tz)\n",
    "    return tx1, ty1, tz1"
   ]
  },
  {
   "cell_type": "markdown",
   "metadata": {},
   "source": [
    "**Notebook level constants**"
   ]
  },
  {
   "cell_type": "code",
   "execution_count": 172,
   "metadata": {},
   "outputs": [],
   "source": [
    "imu_col =['gyrox1', 'gyroy1', 'gyroz1', 'accelx1', 'accely1', 'accelz1',  'Time']\n",
    "imu_enc_col =['gyrox1', 'gyroy1', 'gyroz1', 'accelx1', 'accely1', 'accelz1', 'enc_ang', 'Time']\n",
    "mcp_col=['Time', 'org_x', 'org_y', 'org_z', 'xvec_x', 'xvec_y', 'xvec_z', 'zvec_x', 'zvec_y', 'zvec_z']\n",
    "\n",
    "acc_A = np.array([[2.007463, -0.000148, 0.002320],\n",
    "                   [-0.000148, 1.993274, -0.000060],\n",
    "                   [0.002320, -0.000060, 1.986062]])\n",
    "acc_bias = np.array([0.032051, -0.009519, -0.125074])\n",
    "gyr_bias = np.array([0.32372708, 1.273188007, -1.421987881])\n",
    "var_lim  = 5.5\n",
    "delta_t = 0.0017\n",
    "inertial_quat = [1, 0, 0, 0]\n",
    "alpha = 0.0000001\n",
    "beta = 0.000001\n",
    "\n",
    "header_for_gain_optmize = ['comp_1_max_abs', 'comp_2_max_abs', 'comp_3_max_abs', 'comp_4_max_abs', 'comp_5_max_abs', 'comp_6_max_abs', 'comp_7_max_abs',\n",
    "                           'madg_1_max_abs', 'madg_2_max_abs', 'madg_3_max_abs', 'madg_4_max_abs', 'madg_5_max_abs', 'madg_6_max_abs', 'madg_7_max_abs',\n",
    "                           'comp_1_rom_abs', 'comp_2_rom_abs', 'comp_3_rom_abs', 'comp_4_rom_abs', 'comp_5_rom_abs', 'comp_6_rom_abs', 'comp_7_rom_abs',\n",
    "                           'madg_1_rom_abs', 'madg_2_rom_abs', 'madg_3_rom_abs', 'madg_4_rom_abs', 'madg_5_rom_abs', 'madg_6_rom_abs', 'madg_7_rom_abs', \n",
    "                           'gyro_max_abs', 'gyro_rom_abs']\n",
    "header_final_err = ['gyro_recon_err', 'gyro_rom_err', 'comp_recon_err', 'comp_rom_err', 'madg_recon_err', 'madg_rom_err']\n",
    "gain = [0.0000001, 0.000001, 0.00001, 0.0001, 0.001, 0.01, 0.1]\n",
    "dest_key_words_imu_mcp = ['abduction', 'dummy_variab', 'e_rotation', 'i_rotation', 'dummy_variab', 'extension', \n",
    "                       'Right_Lateral_flexion', 'Left_Lateral_flexion', 'Right_rotation', 'Left_rotation']  \n",
    "dest_dir = r'D:\\ROMIU\\ROMIU_final_results'\n",
    "dest_file_name_imu_mcp = ['AA', 'FE', 'ER', 'IR','F','E','RLF','LLF', 'RR','LR']\n",
    "dest_file_name_imu_enc = ['AA', 'FE', 'RR']\n",
    "dest_key_words_imu_enc = ['abduction', 'flexion', 'rotation']"
   ]
  },
  {
   "cell_type": "markdown",
   "metadata": {},
   "source": [
    "**Motion Capture**\n"
   ]
  },
  {
   "cell_type": "code",
   "execution_count": 15,
   "metadata": {},
   "outputs": [],
   "source": [
    "def estimate_rotation_angle_from_mocap(mcp):\n",
    "    \"\"\"\n",
    "    Estimate joint rotation angle form motion capture data\n",
    "    \"\"\"\n",
    "    _org_mkr = mcp.loc[:, ['org_x', 'org_y', 'org_z']].values\n",
    "    _xvc_mkr = mcp.loc[:, ['xvec_x', 'xvec_y', 'xvec_z']].values\n",
    "    _zvc_mkr= mcp.loc[:, ['zvec_x', 'zvec_y', 'zvec_z']].values\n",
    "    gs_vec = gram_schmidt_orthogonalize(_org_mkr-_xvc_mkr, _xvc_mkr-_zvc_mkr)\n",
    "    gs_vec = (np.cross(gs_vec[0],gs_vec[1]),) + gs_vec\n",
    "    ort = np.array(gs_vec).transpose(1, 2, 0)   \n",
    "    rot_wrt_inertial = ort[0].T @ ort\n",
    "    mocap_ang = np.rad2deg(np.arccos([np.clip((np.trace(rot)-1.0)/2,a_max = 1, a_min = -1) for rot in rot_wrt_inertial]))\n",
    "    return mocap_ang  "
   ]
  },
  {
   "cell_type": "markdown",
   "metadata": {},
   "source": [
    "***Inertial Measurement Unit***"
   ]
  },
  {
   "cell_type": "markdown",
   "metadata": {},
   "source": [
    "**Gyroscope Integration**"
   ]
  },
  {
   "cell_type": "code",
   "execution_count": 16,
   "metadata": {},
   "outputs": [],
   "source": [
    "def angle_estimation_through_gyroscope(gyro, delta_t, inertial_quat):\n",
    "        \"\"\"\n",
    "        Estimage joint rotation angle from gyroscope data through integration approach\n",
    "        \"\"\"\n",
    "        axs_of_rot, delta_theta, q_gyro = angle_axis_quaternion_representation(gyro,delta_t)\n",
    "        q_int = quaternion_integration(q_gyro,inertial_quat)\n",
    "        gyro_ang = np.rad2deg(2*np.arccos(q_int[:, 0]))\n",
    "        return gyro_ang"
   ]
  },
  {
   "cell_type": "markdown",
   "metadata": {},
   "source": [
    "**Complementary Filter**"
   ]
  },
  {
   "cell_type": "code",
   "execution_count": 17,
   "metadata": {},
   "outputs": [],
   "source": [
    "def tilt_correction_quaternion(q_int, acc, alpha):\n",
    "    \"\"\"\n",
    "    Compute tilt correction quaternion\n",
    "    \"\"\"\n",
    "    acc_rot = quaternion_vector_rotation(q_int, vec_quaternion(acc))\n",
    "    acc_rot_norm = np.divide(acc_rot, np.linalg.norm(acc_rot, axis = 1, keepdims = True))\n",
    "    norm_vec = np.cross(acc_rot_norm[:, [1,2,3]], acc[0].reshape(1,3))\n",
    "    mag_norm_vec = np.linalg.norm(norm_vec, axis = 1, keepdims = True)\n",
    "    mag_norm_vec[mag_norm_vec == 0] = 1\n",
    "    axs_of_rot_acc = np.divide(norm_vec, mag_norm_vec)\n",
    "    delta_theta_acc= np.arccos(np.clip(np.dot(acc_rot_norm[:, [1,2,3]], acc[0])/(np.linalg.norm(acc[0])), a_min = -1, a_max = 1.0))\n",
    "    q_tilt = np.column_stack([np.cos(alpha*delta_theta_acc/2), axs_of_rot_acc*(np.sin(alpha*delta_theta_acc/2)[:, np.newaxis])])\n",
    "    return q_tilt"
   ]
  },
  {
   "cell_type": "code",
   "execution_count": 18,
   "metadata": {},
   "outputs": [],
   "source": [
    "def angle_estimation_through_complementary_filter(gyro, acc, delta_t, inertial_quat, alpha):\n",
    "    \"\"\"\n",
    "    Estimate the joint rotation angle from IMU data through complementary filter\n",
    "    \"\"\"\n",
    "    axs_of_rot, delta_theta, q_gyro = angle_axis_quaternion_representation(gyro,delta_t)\n",
    "    q_int = quaternion_integration(q_gyro,inertial_quat)\n",
    "    q_tilt = tilt_correction_quaternion(q_int, acc, alpha)\n",
    "    q_corr = [np.array(quaternion_multiply(q_tilt[j], q_int[j])) for j in range(len(q_gyro))]\n",
    "    q_corr_scalar = np.clip(np.array(q_corr)[:, 0], a_min = -1, a_max = 1.0)\n",
    "    comp_ang = np.rad2deg(2*np.arccos(q_corr_scalar))\n",
    "    return comp_ang"
   ]
  },
  {
   "cell_type": "markdown",
   "metadata": {},
   "source": [
    "**Madgwick Filter**"
   ]
  },
  {
   "cell_type": "code",
   "execution_count": 92,
   "metadata": {},
   "outputs": [],
   "source": [
    "def tilt_correction_estimation_through_madgwick(q_gyro, acc, delta_t, beta, inertial_quat):\n",
    "    \"\"\"\n",
    "    Compute tilt correction through madgwick\n",
    "    \"\"\"\n",
    "    q_corr = np.zeros((len(q_gyro),4))\n",
    "    q = inertial_quat\n",
    "    norm_acc = np.divide(acc, np.linalg.norm(acc, axis = 1, keepdims = True))\n",
    "    for j in range(len(q_gyro)):\n",
    "        f =np.array( [2*((acc[0,0]*(0.5-(q[2]*q[2])-(q[3]*q[3])))+(acc[0,1]*((q[0]*q[3])+(q[1]*q[2])))+(acc[0,2]*((q[1]*q[3])-(q[0]*q[2])))), \n",
    "                      2*((acc[0,0]*((q[1]*q[2])-(q[0]*q[3])))+(acc[0,1]*((0.5-q[1]*q[1])-(q[3]*q[3])))+(acc[0,2]*((q[0]*q[1])+(q[2]*q[3])))),\n",
    "                      2*((acc[0,0]*((q[0]*q[2])-(q[1]*q[3])))+(acc[0,1]*((q[2]*q[3])-(q[0]*q[1])))+(acc[0,2]*((0.5-q[1]*q[1])-(q[2]*q[2]))))])\n",
    "        f= f - norm_acc[j]\n",
    "        Jac = np.array ([[(2*acc[0,1]*q[3])-(2*acc[0,2]*q[2]),(2*acc[0,1]*q[2])+(2*acc[0,2]*q[3]), ((-4*acc[0,0]*q[2])+(2*acc[0,1]*q[1])-(2*acc[0,2]*q[0])),((-4*acc[0,0]*q[3])+(2*acc[0,1]*q[0])+(2*acc[0,2]*q[1]))],\n",
    "                         [(-2*acc[0,0]*q[3])+(2*acc[0,2]*q[1]),((2*acc[0,0]*q[2])-(4*acc[0,1]*q[1])+(2*acc[0,2]*q[0])),(2*acc[0,0]*q[1])+(2*acc[0,2]*q[3]), ((-2*acc[0,0]*q[0])+(-4*acc[0,1]*q[3])+(2*acc[0,2]*q[2]))],\n",
    "                         [(2*acc[0,0]*q[2])-(2*acc[0,1]*q[1]), ((2*acc[0,0]*q[3])-(2*acc[0,1]*q[0])-(4*acc[0,2]*q[1])), ( (2*acc[0,0]*q[0])+(2*acc[0,1]*q[3])+(-4*acc[0,2]*q[2])),(2*acc[0,0]*q[1])+(2*acc[0,1]*q[2])]])\n",
    "        del_f = Jac.T @ f\n",
    "        if np.linalg.norm(del_f) != 0:\n",
    "            del_f_norm = np.divide(del_f, np.linalg.norm(del_f))\n",
    "        else:\n",
    "            del_f_norm = del_f\n",
    "        q_tilt = del_f_norm*beta*delta_t\n",
    "        q = q - q_tilt                 \n",
    "        q_corr[j] = q\n",
    "        q = quaternion_multiply(q, q_gyro[j])\n",
    "    return q_corr"
   ]
  },
  {
   "cell_type": "code",
   "execution_count": 20,
   "metadata": {},
   "outputs": [],
   "source": [
    "def angle_estimation_through_madgwick(gyro, acc,delta_t, beta, inertial_quat):\n",
    "    \"\"\"\n",
    "    Estimate the joint rotation angle from IMU data throught Madgwick Filter\n",
    "    \"\"\"\n",
    "    axs_of_rot, delta_theta, q_gyro = angle_axis_quaternion_representation(gyro,delta_t)\n",
    "    q_corr = tilt_correction_estimation_through_madgwick(q_gyro, acc, delta_t, beta, inertial_quat)\n",
    "    q_corr_scalar = np.clip(np.array(q_corr)[:, 0], a_min = -1, a_max = 1.0)\n",
    "    madg_ang = np.rad2deg(2*np.arccos(q_corr_scalar))\n",
    "    return madg_ang"
   ]
  },
  {
   "cell_type": "code",
   "execution_count": 178,
   "metadata": {},
   "outputs": [],
   "source": [
    "def save_in_dest(data, file, dest_key_words, dest_dir, dest_file_name, extension, header):\n",
    "    for k in range(len(dest_key_words)):\n",
    "            if file.find(dest_key_words[k]) != -1:\n",
    "                index = k   \n",
    "    if file.find('shoulder') != -1 and file.find('flexion') !=-1:\n",
    "        index = 1\n",
    "    if file.find('neck') != -1 and file.find('flexion') !=-1 :\n",
    "        if  file.find('Right_Lateral_flexion') == -1 and file.find('Left_Lateral_flexion') == -1:\n",
    "            index =4\n",
    "    path = os.path.join (dest_dir, dest_file_name[index] + extension)\n",
    "    if not os.path.exists(path):\n",
    "        with open(path,'w',newline=\"\") as f_in:\n",
    "            writer = csv.writer(f_in)\n",
    "            writer.writerow(header)\n",
    "    with open(path,'a',newline=\"\") as f_in:\n",
    "        # Write header unchanged\n",
    "        writer = csv.writer(f_in)\n",
    "        writer.writerow(data)"
   ]
  },
  {
   "cell_type": "markdown",
   "metadata": {},
   "source": [
    "**Optimum gain for Complementary and Madgwick filters for IMU-MOCAP and IMU-Encoder**"
   ]
  },
  {
   "cell_type": "code",
   "execution_count": null,
   "metadata": {},
   "outputs": [],
   "source": [
    "# Run gyro and complementary filter, Madgwick filter for different gains for IMU-MOCAP and save errors in destination path\n",
    "\n",
    "data_path = get_the_data_path(r'C:\\Phase1\\IMU_data')\n",
    "for file in data_path:\n",
    "    err = np.zeros(30)\n",
    "    imu_file = file[0]\n",
    "    mcp_file = file[1]\n",
    "    imu = read_filter_data(imu_file, datacols=imu_col, filtcols=imu_col[3:6], sgwin=251, sgorder=3)\n",
    "    mcp = read_filter_data(mcp_file, datacols=mcp_col, filtcols=mcp_col[1:], sgwin=51, sgorder=3)\n",
    "    mcp = upsample_mocap_data(imu, mcp)\n",
    "    acc, gyro = imu_calibration(imu, acc_A, acc_bias, gyr_bias)\n",
    "    mocap_ang = estimate_rotation_angle_from_mocap(mcp)\n",
    "    gyro_ang = angle_estimation_through_gyroscope(gyro, delta_t,inertial_quat)\n",
    "    err[28] = np.max(abs(mocap_ang[:-500] - gyro_ang[:-500])) \n",
    "    err[29] = abs(np.max(mocap_ang[:-500]) - np.max(gyro_ang[:-500]))\n",
    "    for j in range(len(gain)):\n",
    "        comp_ang = angle_estimation_through_complementary_filter(gyro, acc, delta_t, inertial_quat, gain[j])\n",
    "        madg_ang = angle_estimation_through_madgwick(gyro, acc,delta_t, gain[j], inertial_quat)\n",
    "        max_abs_err_comp = np.max(abs(mocap_ang[:-500] - comp_ang[:-500])) \n",
    "        max_abs_err_madg = np.max(abs(mocap_ang[:-500] - madg_ang[:-500])) \n",
    "        rom_abs_err_comp = abs(np.max(mocap_ang[:-500]) - np.max(comp_ang[:-500])) \n",
    "        rom_abs_err_madg = abs(np.max(mocap_ang[:-500]) - np.max(madg_ang[:-500]))\n",
    "        err[j] = max_abs_err_comp\n",
    "        err[j+7] = max_abs_err_madg\n",
    "        err[j+14] = rom_abs_err_comp\n",
    "        err[j+21] = rom_abs_err_madg\n",
    "    save_in_dest(err, file[0], dest_key_words_imu_mcp, dest_dir, dest_file_name_imu_mcp, '_gain_optim.csv', header_for_gain_optmize)"
   ]
  },
  {
   "cell_type": "code",
   "execution_count": null,
   "metadata": {},
   "outputs": [],
   "source": [
    "# Run gyro and complementary filter, Madgwick filter for different gains for IMU-ENC and save errors in destination path\n",
    "\n",
    "data_path = get_the_enc_data_path(r'D:\\ROMIU\\imu_encoder_validation')\n",
    "data_path = np.concatenate([arr for arr in data_path])  \n",
    "for file in data_path:\n",
    "    err = np.zeros(30)\n",
    "    imu = read_filter_data(file, datacols=imu_enc_col, filtcols=imu_enc_col[3:6], sgwin=251, sgorder=3)\n",
    "    acc, gyro = imu_calibration(imu, acc_A, acc_bias, gyr_bias)\n",
    "    gyro_ang = angle_estimation_through_gyroscope(gyro, delta_t ,inertial_quat)\n",
    "    enc_ang  = (360*(imu.enc_ang - imu.enc_ang[0]))/(4*4096.0)\n",
    "    err[28] = np.max(abs(abs(enc_ang) - gyro_ang)) \n",
    "    err[29] = abs(np.max(abs(enc_ang)) - np.max(gyro_ang))\n",
    "    for j in range(len(gain)):\n",
    "        comp_ang = angle_estimation_through_complementary_filter(gyro, acc, delta_t, inertial_quat, gain[j])\n",
    "        madg_ang = angle_estimation_through_madgwick(gyro, acc, delta_t, gain[j], inertial_quat)\n",
    "        max_abs_err_comp = np.max(abs(abs(enc_ang) - comp_ang)) \n",
    "        max_abs_err_madg = np.max(abs(abs(enc_ang) - madg_ang)) \n",
    "        rom_abs_err_comp = abs(np.max(abs(enc_ang)) - np.max(comp_ang)) \n",
    "        rom_abs_err_madg = abs(np.max(abs(enc_ang)) - np.max(madg_ang))\n",
    "        err[j] = max_abs_err_comp\n",
    "        err[j+7] = max_abs_err_madg\n",
    "        err[j+14] = rom_abs_err_comp\n",
    "        err[j+21] = rom_abs_err_madg\n",
    "    save_in_dest(err, file, dest_key_words_imu_enc, dest_dir, dest_file_name_imu_enc, '_gain_optim_enc.csv', header_for_gain_optmize)"
   ]
  },
  {
   "cell_type": "markdown",
   "metadata": {},
   "source": [
    "**Reconstruction error and Range of motion error for IMU-MOCAP and IMU-Encoder**"
   ]
  },
  {
   "cell_type": "code",
   "execution_count": 93,
   "metadata": {},
   "outputs": [],
   "source": [
    "# Compute the errors between IMU and MOCAP using just the gyroscope, complementary filter and madgwick filter and save the data to csv files.\n",
    "data_path = get_the_data_path(r'C:\\Phase1\\IMU_data')\n",
    "for file in data_path:\n",
    "    err = np.zeros(6)\n",
    "    imu_file = file[0]\n",
    "    mcp_file = file[1]\n",
    "    imu = read_filter_data(imu_file, datacols=imu_col, filtcols=imu_col[3:6], sgwin=251, sgorder=3)\n",
    "    mcp = read_filter_data(mcp_file, datacols=mcp_col, filtcols=mcp_col[1:], sgwin=51, sgorder=3)\n",
    "    mcp = upsample_mocap_data(imu, mcp)\n",
    "    acc, gyro = imu_calibration(imu, acc_A, acc_bias, gyr_bias)\n",
    "    mocap_ang = estimate_rotation_angle_from_mocap(mcp)\n",
    "    gyro_ang = angle_estimation_through_gyroscope(gyro, delta_t,inertial_quat)\n",
    "    comp_ang = angle_estimation_through_complementary_filter(gyro, acc, delta_t, inertial_quat, alpha)\n",
    "    madg_ang = angle_estimation_through_madgwick(gyro, acc,delta_t, beta, inertial_quat)\n",
    "    err[0] = np.max(abs(mocap_ang[:-500] - gyro_ang[:-500])) \n",
    "    err[1] = abs(np.max(mocap_ang[:-500]) - np.max(gyro_ang[:-500]))\n",
    "    err[2] = np.max(abs(mocap_ang[:-500] - comp_ang[:-500])) \n",
    "    err[3] = abs(np.max(mocap_ang[:-500]) - np.max(comp_ang[:-500])) \n",
    "    err[4] = np.max(abs(mocap_ang[:-500] - madg_ang[:-500])) \n",
    "    err[5] = abs(np.max(mocap_ang[:-500]) - np.max(madg_ang[:-500]))\n",
    "    save_in_dest(err, file[0], dest_key_words_imu_mcp, dest_dir, dest_file_name_imu_mcp, '_final_err_imu_mcp.csv', header_final_err)"
   ]
  },
  {
   "cell_type": "code",
   "execution_count": 140,
   "metadata": {},
   "outputs": [],
   "source": [
    "# Compute the errors between IMU and encoder using just the gyroscope, complementary filter and madgwick filter for IMU-ENC and save the data to csv files.\n",
    "\n",
    "data_path = get_the_enc_data_path(r'D:\\ROMIU\\imu_encoder_validation')\n",
    "data_path = np.concatenate([arr for arr in data_path])  \n",
    "for file in data_path:\n",
    "    err = np.zeros(6)\n",
    "    imu = read_filter_data(file, datacols=imu_col_enc, filtcols=imu_col[3:6], sgwin=251, sgorder=3)\n",
    "    acc, gyro = imu_calibration(imu, acc_A, acc_bias, gyr_bias)\n",
    "    gyro_ang = angle_estimation_through_gyroscope(gyro, delta_t ,inertial_quat)\n",
    "    comp_ang = angle_estimation_through_complementary_filter(gyro, acc, delta_t, inertial_quat, alpha)\n",
    "    madg_ang = angle_estimation_through_madgwick(gyro, acc, delta_t, beta, inertial_quat)\n",
    "    enc_ang  = (360*(imu.enc_ang - imu.enc_ang[0]))/(4*4096.0)\n",
    "    err[0] = np.max(abs(abs(enc_ang) - gyro_ang)) \n",
    "    err[1] = abs(np.max(abs(enc_ang)) - np.max(gyro_ang)) \n",
    "    err[2] = np.max(abs(abs(enc_ang) - comp_ang)) \n",
    "    err[3] = abs(np.max(abs(enc_ang)) - np.max(comp_ang)) \n",
    "    err[4] = np.max(abs(abs(enc_ang) - madg_ang)) \n",
    "    err[5] = abs(np.max(abs(enc_ang)) - np.max(madg_ang))\n",
    "    save_in_dest(err, file, dest_key_words_imu_enc, dest_dir, dest_file_name_imu_enc, '_final_err_enc.csv', header_final_err)"
   ]
  },
  {
   "cell_type": "markdown",
   "metadata": {},
   "source": [
    "**Inter-test and Intra-test reliability**"
   ]
  },
  {
   "cell_type": "code",
   "execution_count": 126,
   "metadata": {},
   "outputs": [],
   "source": [
    "#Compute the Inter and Intra-test reliability\n",
    "\n",
    "data_path = get_the_data_path(r'C:\\Phase1\\IMU_data')\n",
    "participant = data_path[0][0].split(\"\\\\\")[3]\n",
    "joint = data_path[0][0].split(\"\\\\\")[6]\n",
    "trial = data_path[0][0].split(\"\\\\\")[4][-1]\n",
    "a = 0\n",
    "ang = []\n",
    "mean_ang = np.zeros((10,3))\n",
    "for file in data_path:\n",
    "    imu_file = file[0]\n",
    "    imu = read_filter_data(imu_file, datacols=imu_col, filtcols=imu_col[3:6], sgwin=251, sgorder=3)\n",
    "    acc, gyro = imu_calibration(imu, acc_A, acc_bias, gyr_bias)\n",
    "    gyro_ang = angle_estimation_through_gyroscope(gyro, delta_t,inertial_quat)\n",
    "    prev_index = index\n",
    "    for k in range(len(file_dest_key_words)):\n",
    "        if file[1].find(file_dest_key_words[k]) != -1:\n",
    "            index = k   \n",
    "    if file[1].find('shoulder') != -1 and file[1].find('flexion') !=-1:\n",
    "        index = 1\n",
    "    if file[1].find('neck') != -1 and file[1].find('flexion') !=-1 :\n",
    "        if  file[1].find('Right_Lateral_flexion') == -1 and file[1].find('Left_Lateral_flexion') == -1:\n",
    "            index =4\n",
    "    if participant!= file[0].split(\"\\\\\")[3]:\n",
    "        for j in range(10):\n",
    "            path = os.path.join (dest_dir, dest_file_name[j] + '_icc.csv')\n",
    "            if not os.path.exists(path):\n",
    "                with open(path,'w',newline=\"\") as f_in:\n",
    "                    writer = csv.writer(f_in)\n",
    "                    writer.writerow(['sub','clinician1','rom1','clinician2','rom2'])\n",
    "            with open(path,'a',newline=\"\") as f_in:\n",
    "                # Write header unchanged\n",
    "                writer = csv.writer(f_in)\n",
    "                writer.writerow([a,'A',mean_ang[j][0],'A',mean_ang[j][1]])\n",
    "                writer.writerow([a,'B',mean_ang[j][0],'C',mean_ang[j][2]])\n",
    "        mean_ang = np.zeros((10,3))\n",
    "        a += 1  \n",
    "        participant = file[0].split(\"\\\\\")[3]\n",
    "    ang .append(np.max(gyro_ang))       \n",
    "    if joint != file[0].split(\"\\\\\")[6]:\n",
    "        joint = file[0].split(\"\\\\\")[6]\n",
    "        if trial != file[0].split(\"\\\\\")[4][-1]:\n",
    "            trial = file[0].split(\"\\\\\")[4][-1]\n",
    "            mean_ang[prev_index][int(file[0].split(\"\\\\\")[4][-1])-2] = np.mean(ang)\n",
    "        else:\n",
    "            mean_ang[prev_index][int(file[0].split(\"\\\\\")[4][-1])-1] = np.mean(ang)\n",
    "        ang = []\n",
    "\n",
    "     \n"
   ]
  },
  {
   "cell_type": "markdown",
   "metadata": {},
   "source": [
    "**Errors in ground truth data**"
   ]
  },
  {
   "cell_type": "code",
   "execution_count": 164,
   "metadata": {},
   "outputs": [],
   "source": [
    "# Compute the length of each vector and angle between vectors on rigid body formed by markers \n",
    "\n",
    "data_path = get_the_data_path(r'C:\\Phase1\\IMU_data')\n",
    "for file in data_path:    \n",
    "    mcp_file = file[1]\n",
    "    imu_file = file[0]\n",
    "    imu = read_filter_data(imu_file, datacols=imu_col, filtcols=imu_col[3:6], sgwin=251, sgorder=3)\n",
    "    mcp = read_filter_data(mcp_file, datacols=mcp_col, filtcols=mcp_col[1:], sgwin=5, sgorder=0)\n",
    "    mcp = upsample_mocap_data(imu, mcp)\n",
    "    _org_mkr = mcp.loc[:, ['org_x', 'org_y', 'org_z']].values\n",
    "    _xvc_mkr = mcp.loc[:, ['xvec_x', 'xvec_y', 'xvec_z']].values\n",
    "    _zvc_mkr = mcp.loc[:, ['zvec_x', 'zvec_y', 'zvec_z']].values\n",
    "    \n",
    "    # normalize\n",
    "    _x1 = _xvc_mkr - _org_mkr\n",
    "    _x1 /= np.linalg.norm(_x1, axis=1, keepdims=True)\n",
    "    _x2 = _zvc_mkr - _org_mkr\n",
    "    _x2 /= np.linalg.norm(_x2, axis=1, keepdims=True)\n",
    "    _x3 = _zvc_mkr - _xvc_mkr\n",
    "    _x3 /= np.linalg.norm(_x3, axis=1, keepdims=True)\n",
    "\n",
    "    # Angles\n",
    "    _t12 = np.arccos(np.clip(np.sum(_x1 * _x2, axis = 1, keepdims=True), a_min=-1, a_max=1)) \n",
    "    _t13 = np.arccos(np.clip(np.sum(_x1 * _x3, axis = 1, keepdims=True), a_min=-1, a_max=1))\n",
    "    _t12 = np.rad2deg(_t12)\n",
    "    _t13 = np.rad2deg(_t13)\n",
    "    for k in range(len(file_dest_key_words)):\n",
    "        if file[1].find(file_dest_key_words[k]) != -1:\n",
    "            index = k   \n",
    "    if file[1].find('shoulder') != -1 and file[1].find('flexion') !=-1:\n",
    "        index = 1\n",
    "    if file[1].find('neck') != -1 and file[1].find('flexion') !=-1 :\n",
    "        if  file[1].find('Right_Lateral_flexion') == -1 and file[1].find('Left_Lateral_flexion') == -1:\n",
    "            index =4\n",
    "    path = os.path.join (dest_dir, dest_file_name[index] + '_mocap_deviation.csv')\n",
    "    if not os.path.exists(path):\n",
    "        with open(path,'w',newline=\"\") as f_in:\n",
    "            writer = csv.writer(f_in)\n",
    "            writer.writerow(['rigid_body_dev'])\n",
    "    with open(path,'a',newline=\"\") as f_in:\n",
    "        # Write header unchanged\n",
    "        writer = csv.writer(f_in)\n",
    "        writer.writerow([np.max([np.max(abs(_t12 - np.mean(_t12))), np.max(abs(_t13 - np.mean(_t13)))])])\n",
    "    \n",
    "        "
   ]
  },
  {
   "cell_type": "markdown",
   "metadata": {},
   "source": [
    "**Deviation of axis of Rotation**"
   ]
  },
  {
   "cell_type": "code",
   "execution_count": null,
   "metadata": {},
   "outputs": [],
   "source": [
    "# compute the deviation of axis of rotation of imu_mcp data\n",
    "\n",
    "data_path = get_the_data_path(r'C:\\Phase1\\IMU_data')\n",
    "for file in data_path:\n",
    "    imu_file = file[0]\n",
    "    imu = read_filter_data(imu_file, datacols=imu_col, filtcols=imu_col[3:6], sgwin=251, sgorder=3)   \n",
    "    acc, gyro = imu_calibration(imu, acc_A, acc_bias, gyr_bias)    \n",
    "    aor_dev, gyro_angg, tx, ty, tz = axis_of_rotation_deviation(gyro, delta_t, inertial_quat)\n",
    "    ind_max = np.argmax(gyro_angg)\n",
    "    trunc_ang = np.flip(gyro_angg[0:ind_max])         \n",
    "    ind1 = next(x for x, val in enumerate(trunc_ang) if val < np.max(gyro_angg)*0.15)\n",
    "    ind2 = next(x for x, val in enumerate(gyro_angg[0:ind_max]) if val > np.max(gyro_angg)*0.85)\n",
    "    trunc_dev = aor_dev[(ind_max-ind1):ind2]\n",
    "    if len(trunc_dev) != 0 and np.std(trunc_dev) < 50:\n",
    "        dev = [np.std(trunc_dev)]\n",
    "    save_in_dest(dev, file[0], dest_key_words_imu_mcp, dest_dir, dest_file_name_imu_mcp, '_axis_of_rot_dev.csv', ['aor_dev'])                         "
   ]
  },
  {
   "cell_type": "code",
   "execution_count": null,
   "metadata": {},
   "outputs": [],
   "source": [
    "# compute the deviation of axis of rotation of imu_enc data\n",
    "\n",
    "data_path = get_the_enc_data_path(r'D:\\ROMIU\\imu_encoder_validation')\n",
    "data_path = np.concatenate([arr for arr in data_path])  \n",
    "for file in data_path:\n",
    "    imu_file = file\n",
    "    imu = read_filter_data(imu_file, datacols=imu_enc_col, filtcols=imu_enc_col[3:6], sgwin=251, sgorder=3)   \n",
    "    acc, gyro = imu_calibration(imu, acc_A, acc_bias, gyr_bias)    \n",
    "    aor_dev, gyro_angg, tx, ty, tz = axis_of_rotation_deviation(gyro, delta_t, inertial_quat)\n",
    "    ind_max = np.argmax(gyro_angg)\n",
    "    trunc_ang = np.flip(gyro_angg[0:ind_max])         \n",
    "    ind1 = next(x for x, val in enumerate(trunc_ang) if val < np.max(gyro_angg)*0.15)\n",
    "    ind2 = next(x for x, val in enumerate(gyro_angg[0:ind_max]) if val > np.max(gyro_angg)*0.85)\n",
    "    trunc_dev = aor_dev[(ind_max-ind1):ind2]\n",
    "    if len(trunc_dev) != 0 and np.std(trunc_dev) < 50:\n",
    "        dev = [np.std(trunc_dev)]\n",
    "    save_in_dest(dev, file, dest_key_words_imu_enc, dest_dir, dest_file_name_imu_enc, '_axis_of_rot_dev_enc.csv', ['aor_dev_enc'])  "
   ]
  },
  {
   "cell_type": "markdown",
   "metadata": {},
   "source": [
    "**Deviation of gyroscope data in rest period**"
   ]
  },
  {
   "cell_type": "code",
   "execution_count": 186,
   "metadata": {},
   "outputs": [],
   "source": [
    "# Compute the deviation of gyroscope data in rest period (imu-mcp)\n",
    "\n",
    "data_path = get_the_data_path(r'C:\\Phase1\\IMU_data')\n",
    "for file in data_path:\n",
    "    imu_file = file[0]\n",
    "    imu = read_filter_data(imu_file, datacols=imu_col, filtcols=imu_col[3:6], sgwin=251, sgorder=3) \n",
    "    dev = [np.max(np.array([np.std(imu.gyrox1[:1000]), np.std(imu.gyroy1[:1000]), np.std(imu.gyroz1[:1000])]))]\n",
    "    save_in_dest(dev, file[0], dest_key_words_imu_mcp, dest_dir, dest_file_name_imu_mcp, '_rest_period_dev.csv', ['rest_period_dev'])  "
   ]
  },
  {
   "cell_type": "code",
   "execution_count": 192,
   "metadata": {},
   "outputs": [],
   "source": [
    "# Compute the deviation of gyroscope data in rest period (imu-enc)\n",
    "\n",
    "data_path = get_the_enc_data_path(r'D:\\ROMIU\\imu_encoder_validation')\n",
    "data_path = np.concatenate([arr for arr in data_path])  \n",
    "for file in data_path:\n",
    "    imu_file = file\n",
    "    imu = read_filter_data(imu_file, datacols=imu_enc_col, filtcols=imu_enc_col[3:6], sgwin=251, sgorder=3) \n",
    "    imu = imu.astype(float)\n",
    "    dev = [np.max(np.array([np.std(imu.gyrox1[:1000]/65.5), np.std(imu.gyroy1[:1000]/65.5), np.std(imu.gyroz1[:1000]/65.5)]))]\n",
    "    save_in_dest(dev, file, dest_key_words_imu_enc, dest_dir, dest_file_name_imu_enc, '_rest_period_dev_enc.csv', ['rest_period_dev']) "
   ]
  },
  {
   "cell_type": "code",
   "execution_count": 195,
   "metadata": {},
   "outputs": [
    {
     "name": "stdout",
     "output_type": "stream",
     "text": [
      "    Type              Description       ICC         F  df1  df2      pval         CI95%\n",
      "0   ICC1   Single raters absolute  0.668976  5.041854   31   32  0.000008  [0.43, 0.82]\n",
      "1   ICC2     Single random raters  0.668291  4.979744   31   31  0.000012  [0.42, 0.82]\n",
      "2   ICC3      Single fixed raters  0.665538  4.979744   31   31  0.000012  [0.42, 0.82]\n",
      "3  ICC1k  Average raters absolute  0.801660  5.041854   31   32  0.000008    [0.6, 0.9]\n",
      "4  ICC2k    Average random raters  0.801168  4.979744   31   31  0.000012   [0.59, 0.9]\n",
      "5  ICC3k     Average fixed raters  0.799186  4.979744   31   31  0.000012   [0.59, 0.9]\n",
      "    Type              Description       ICC         F  df1  df2      pval         CI95%\n",
      "0   ICC1   Single raters absolute  0.619736  4.259505   31   32  0.000050  [0.35, 0.79]\n",
      "1   ICC2     Single random raters  0.620708  4.317682   31   31  0.000052  [0.36, 0.79]\n",
      "2   ICC3      Single fixed raters  0.623896  4.317682   31   31  0.000052   [0.36, 0.8]\n",
      "3  ICC1k  Average raters absolute  0.765231  4.259505   31   32  0.000050  [0.52, 0.88]\n",
      "4  ICC2k    Average random raters  0.765971  4.317682   31   31  0.000052  [0.53, 0.89]\n",
      "5  ICC3k     Average fixed raters  0.768394  4.317682   31   31  0.000052  [0.53, 0.89]\n"
     ]
    }
   ],
   "source": [
    "data = pd.read_csv(r\"D:\\ROMIU\\ROMIU_final_results\\AA_ICC.csv\")\n",
    "icc1 = pg.intraclass_corr(data=data, targets='sub', raters='clinician1', ratings='rom1')\n",
    "icc2 = pg.intraclass_corr(data=data, targets='sub', raters='clinician2', ratings='rom2')\n",
    "\n",
    "pd.set_option('display.max_columns', 8)\n",
    "pd.set_option('display.width', 200)\n",
    "print(icc1)\n",
    "print(icc2)"
   ]
  },
  {
   "cell_type": "code",
   "execution_count": 15,
   "metadata": {},
   "outputs": [
    {
     "data": {
      "image/png": "[encoded data removed]",
      "text/plain": [
       "<Figure size 576x396 with 1 Axes>"
      ]
     },
     "metadata": {
      "needs_background": "light"
     },
     "output_type": "display_data"
    }
   ],
   "source": [
    "plt.rcParams[\"figure.figsize\"] = [8.00, 5.50]\n",
    "plt.rcParams[\"figure.autolayout\"] = True\n",
    "fg, ax = plt.subplots()\n",
    "ax.plot(_2322[5].Time,_2322[0],'r')\n",
    "ax.plot(_2322[5].Time,_2322[1],'g')\n",
    "ax.plot(_2322[5].Time,_2322[2],'b')\n",
    "ax.plot(_2322[5].Time,_2322[3],'k')\n",
    "ax.plot(_2322[5].Time,_2322[4],'y')\n",
    "ax.spines['right'].set_visible(False)\n",
    "ax.spines['top'].set_visible(False)\n",
    "ax.spines['left'].set_visible(True)\n",
    "ax.spines['bottom'].set_visible(True)\n",
    "plt.xlabel('Time(sec)')\n",
    "plt.ylabel('Angle(degrees)')\n",
    "plt.legend(['accel','gyro','comp','madg','omcs'],loc='upper right', fontsize=17)\n",
    "plt.savefig(r'D:\\sample_output.svg')\n",
    "plt.show()"
   ]
  }
 ],
 "metadata": {
  "kernelspec": {
   "display_name": "Python 3.7.10 ('cmc_project')",
   "language": "python",
   "name": "python3"
  },
  "language_info": {
   "codemirror_mode": {
    "name": "ipython",
    "version": 3
   },
   "file_extension": ".py",
   "mimetype": "text/x-python",
   "name": "python",
   "nbconvert_exporter": "python",
   "pygments_lexer": "ipython3",
   "version": "3.7.10"
  },
  "vscode": {
   "interpreter": {
    "hash": "246b86d021add887ffcc2404fe07648a14f744a4392192e658d091a5c6dbf1bd"
   }
  }
 },
 "nbformat": 4,
 "nbformat_minor": 2
}
