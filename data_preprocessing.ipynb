{
 "cells": [
  {
   "cell_type": "code",
   "execution_count": 4,
   "metadata": {},
   "outputs": [],
   "source": [
    "import csv\n",
    "import os\n",
    "import glob\n",
    "import pandas as pd\n",
    "import numpy as np"
   ]
  },
  {
   "cell_type": "code",
   "execution_count": 14,
   "metadata": {},
   "outputs": [],
   "source": [
    "sub_dir3_path= r'D:\\ROMIU\\Additional_experiment_data\\final_trial\\rotation'\n",
    "os.chdir(sub_dir3_path)\n",
    "files = glob.glob('*csv')\n",
    "\n",
    "for file in files:\n",
    "    with open(file,'r') as f_in, open('e'+file,'w', newline='') as f_out:\n",
    "        read= list(csv.reader(f_in))\n",
    "        header = ['Time','org_x','org_y','org_z','xvec_x','xvec_y','xvec_z','zvec_x','zvec_y','zvec_z']\n",
    "        writer = csv.writer(f_out)\n",
    "        writer.writerow(header)\n",
    "        # Write the data \n",
    "        for i in range(len(read)):\n",
    "            if i >6:\n",
    "                dumm= read[i]\n",
    "                dumm=dumm[1:]\n",
    "                writer.writerow(dumm)"
   ]
  },
  {
   "cell_type": "code",
   "execution_count": 13,
   "metadata": {},
   "outputs": [],
   "source": [
    "sub_dir2_path=r'D:\\ROM_Assessment_data\\final_trial\\neck\\Left_rotation'\n",
    "os.chdir(sub_dir2_path)\n",
    "files = glob.glob('*csv')\n",
    "for file in files:\n",
    "    df = pd.read_csv(file)\n",
    "    with open(file,'r') as f_in, open('e'+file,'w', newline='') as f_out:\n",
    "        read1= list(csv.reader(f_in))\n",
    "        header = ['gyrox1','gyroy1','gyroz1','accelx1','accely1','accelz1','enc','delt', 'Time']\n",
    "        writer = csv.writer(f_out)\n",
    "        writer.writerow(header)\n",
    "        indexes = [index for index in range(len(read1)) if read1[index][8] == '1']\n",
    "        for i in range(len(indexes)):\n",
    "            dumm=read1[indexes[i]]\n",
    "            c=i*0.0017\n",
    "            dumm[8]=c\n",
    "            writer.writerow(dumm)"
   ]
  },
  {
   "cell_type": "code",
   "execution_count": 11,
   "metadata": {},
   "outputs": [],
   "source": [
    "data_dir = r'D:\\ROMIU\\Phase2\\shoulder'\n",
    "os.chdir(data_dir)\n",
    "sub_dir1 = [os.path.join(data_dir, file) for file in os.listdir(data_dir)]\n",
    "for file_1 in sub_dir1:\n",
    "    sub_dir2 = [os.path.join(file_1, file) for file in os.listdir(file_1)]\n",
    "    for file_2 in sub_dir2:\n",
    "        sub_dir3 = [os.path.join(file_2, file) for file in os.listdir(file_2)]\n",
    "        for file_3 in sub_dir3:\n",
    "            sub_dir4 = [os.path.join(file_3, file) for file in os.listdir(file_3)]\n",
    "            for file in sub_dir4:\n",
    "                os.chdir(file)\n",
    "                files = glob.glob('*csv')\n",
    "                for file in files:\n",
    "                    with open(file,'r') as f_in, open('e'+file,'w', newline='') as f_out:\n",
    "                        read1= list(csv.reader(f_in))\n",
    "                        header = ['gyrox1','gyroy1','gyroz1','accelx1','accely1','accelz1','gyrox2','gyroy2','gyroz2','accelx2','accely2','accelz2']\n",
    "                        writer = csv.writer(f_out)\n",
    "                        writer.writerow(header)\n",
    "                        indexes = [index for index in range(len(read1))]\n",
    "                        for i in range(len(indexes)-1):\n",
    "                            dumm=read1[indexes[i+1]]\n",
    "                            writer.writerow(dumm)"
   ]
  },
  {
   "cell_type": "code",
   "execution_count": 74,
   "metadata": {},
   "outputs": [],
   "source": [
    "imu_path = []\n",
    "imu_dir = r'C:\\Phase1\\IMU_data'\n",
    "sub_dir1 = [os.path.join(imu_dir, file) for file in os.listdir(imu_dir)]\n",
    "for file_1 in sub_dir1:\n",
    "    sub_dir2 = [os.path.join(file_1, file) for file in os.listdir(file_1)]\n",
    "    for file_2 in sub_dir2:\n",
    "        sub_dir3 = [os.path.join(file_2, file) for file in os.listdir(file_2)]\n",
    "        for file_3 in sub_dir3:\n",
    "            sub_dir4 = [os.path.join(file_3, file) for file in os.listdir(file_3)]\n",
    "            for file_4 in sub_dir4:\n",
    "                sub_dir5 = [os.path.join(file_4, file) for file in os.listdir(file_4)]\n",
    "                for file_5 in sub_dir5:\n",
    "                    os.chdir(file_5)\n",
    "                    _imu_path = os.listdir(file_5)\n",
    "                    if len(_imu_path) == 0:\n",
    "                        move_path = file_5\n",
    "                    if len(_imu_path) == 2:\n",
    "                        os.rename(_imu_path[0], os.path.join(move_path, 'imu_session2.csv'))\n",
    "\n",
    "                \n",
    "                "
   ]
  },
  {
   "cell_type": "code",
   "execution_count": 134,
   "metadata": {},
   "outputs": [],
   "source": [
    "imu_path = []\n",
    "imu_dir = r'C:\\Phase1\\IMU_data'\n",
    "sub_dir1 = [os.path.join(imu_dir, file) for file in os.listdir(imu_dir)]\n",
    "for file_1 in sub_dir1:\n",
    "    sub_dir2 = [os.path.join(file_1, file) for file in os.listdir(file_1)]\n",
    "    for file_2 in sub_dir2:\n",
    "        sub_dir3 = [os.path.join(file_2, file) for file in os.listdir(file_2)]\n",
    "        for file_3 in sub_dir3:\n",
    "            sub_dir4 = [os.path.join(file_3, file) for file in os.listdir(file_3)]\n",
    "            for file_4 in sub_dir4:\n",
    "                os.chdir(file_4)\n",
    "                fold = os.listdir(file_4)\n",
    "                for fil in fold:\n",
    "                    if fil[-5] == '1':\n",
    "                        sh_path = os.path.join(file_4, fold[-3])\n",
    "                        os.rename(fil, os.path.join(sh_path, 'mcp_session1.csv'))\n",
    "                       \n",
    "                    if fil[-5] == '2':\n",
    "                        sh_path = os.path.join(file_4, fold[-2])\n",
    "                        os.rename(fil, os.path.join(sh_path, 'mcp_session2.csv'))\n",
    "                        \n",
    "                    if fil[-5] == '3':\n",
    "                        sh_path = os.path.join(file_4, fold[-1])\n",
    "                        os.rename(fil, os.path.join(sh_path, 'mcp_session3.csv'))\n",
    "                                 "
   ]
  }
 ],
 "metadata": {
  "kernelspec": {
   "display_name": "Python 3.7.10 ('cmc_project')",
   "language": "python",
   "name": "python3"
  },
  "language_info": {
   "codemirror_mode": {
    "name": "ipython",
    "version": 3
   },
   "file_extension": ".py",
   "mimetype": "text/x-python",
   "name": "python",
   "nbconvert_exporter": "python",
   "pygments_lexer": "ipython3",
   "version": "3.7.10"
  },
  "vscode": {
   "interpreter": {
    "hash": "246b86d021add887ffcc2404fe07648a14f744a4392192e658d091a5c6dbf1bd"
   }
  }
 },
 "nbformat": 4,
 "nbformat_minor": 2
}
